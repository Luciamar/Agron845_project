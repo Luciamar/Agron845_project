{
 "cells": [
  {
   "cell_type": "code",
   "execution_count": 1,
   "id": "1fe72dfd-888f-4953-b271-8b7931478b41",
   "metadata": {},
   "outputs": [],
   "source": [
    "import matplotlib.pyplot as plt\n",
    "import numpy as np\n",
    "import pandas as pd\n",
    "import glob\n",
    "\n",
    "#import skimage modules\n",
    "from skimage import io\n",
    "from skimage.io import imread"
   ]
  },
  {
   "cell_type": "code",
   "execution_count": 2,
   "id": "76f1370b-d486-44dd-8074-b9065483b9ec",
   "metadata": {},
   "outputs": [
    {
     "name": "stdout",
     "output_type": "stream",
     "text": [
      "../Agron845_project/Images/IMG_1693.jpg\n",
      "../Agron845_project/Images/IMG_1701.jpeg\n",
      "../Agron845_project/Images/img5.jpg\n",
      "../Agron845_project/Images/IMG_1702.jpeg\n"
     ]
    }
   ],
   "source": [
    "\n",
    "file_list = glob.glob(\"../Agron845_project/Images/*.*\")\n",
    "\n",
    "pic_list = []\n",
    "for file in file_list:\n",
    "    print(file)\n",
    "    RGB = imread(file)\n",
    "    pic_list.append(RGB)\n"
   ]
  },
  {
   "cell_type": "code",
   "execution_count": 3,
   "id": "a16894a2-43c0-4724-a023-6a88fd506627",
   "metadata": {},
   "outputs": [],
   "source": [
    "import untitled as un"
   ]
  },
  {
   "cell_type": "code",
   "execution_count": 4,
   "id": "6eb9ce7a-7994-4a94-b42a-9d7eaf394092",
   "metadata": {},
   "outputs": [
    {
     "name": "stdout",
     "output_type": "stream",
     "text": [
      "Image contains 10 leaves\n",
      "Image contains 9 leaves\n",
      "Image contains 10 leaves\n",
      "Image contains 10 leaves\n"
     ]
    },
    {
     "name": "stderr",
     "output_type": "stream",
     "text": [
      "/Users/luciamarziotte/opt/anaconda3/lib/python3.9/site-packages/pandas/core/internals/construction.py:576: VisibleDeprecationWarning: Creating an ndarray from ragged nested sequences (which is a list-or-tuple of lists-or-tuples-or ndarrays with different lengths or shapes) is deprecated. If you meant to do this, you must specify 'dtype=object' when creating the ndarray.\n",
      "  values = np.array([convert(v) for v in values])\n"
     ]
    }
   ],
   "source": [
    "data = []\n",
    "cont = []\n",
    "for RGB in pic_list:\n",
    "    cont,props = un.leave_measure(RGB)\n",
    "    data.append(props)\n",
    "    cont.append(cont)\n",
    "    \n",
    "df_prop = pd.DataFrame(data)\n",
    "df_cont = pd.DataFrame(cont) \n",
    "\n"
   ]
  },
  {
   "cell_type": "code",
   "execution_count": 5,
   "id": "5de08c04-94e6-403f-ac71-b2a96079c19e",
   "metadata": {},
   "outputs": [
    {
     "name": "stdout",
     "output_type": "stream",
     "text": [
      "Image contains 10 leaves\n"
     ]
    }
   ],
   "source": [
    "pic1 = io.imread('Images/img5.jpg')\n",
    "cont, props = un.leave_measure(pic1)"
   ]
  },
  {
   "cell_type": "code",
   "execution_count": 5,
   "id": "9e1e7589-5d8a-4981-bb0b-0c735c8a2a0e",
   "metadata": {},
   "outputs": [
    {
     "data": {
      "text/html": [
       "<div>\n",
       "<style scoped>\n",
       "    .dataframe tbody tr th:only-of-type {\n",
       "        vertical-align: middle;\n",
       "    }\n",
       "\n",
       "    .dataframe tbody tr th {\n",
       "        vertical-align: top;\n",
       "    }\n",
       "\n",
       "    .dataframe thead th {\n",
       "        text-align: right;\n",
       "    }\n",
       "</style>\n",
       "<table border=\"1\" class=\"dataframe\">\n",
       "  <thead>\n",
       "    <tr style=\"text-align: right;\">\n",
       "      <th></th>\n",
       "      <th>area</th>\n",
       "      <th>axis_minor_length</th>\n",
       "      <th>axis_major_length</th>\n",
       "      <th>image</th>\n",
       "    </tr>\n",
       "  </thead>\n",
       "  <tbody>\n",
       "    <tr>\n",
       "      <th>0</th>\n",
       "      <td>[844.7898423817863, 5321.074138937536, 8587.20...</td>\n",
       "      <td>[2.6538376439538647, 7.698518186031254, 8.9309...</td>\n",
       "      <td>[35.21139692854252, 67.43948878147152, 93.2309...</td>\n",
       "      <td>[[[False, False, False, False, False, False, F...</td>\n",
       "    </tr>\n",
       "    <tr>\n",
       "      <th>1</th>\n",
       "      <td>[4588.924233661076, 8109.456333140543, 10127.6...</td>\n",
       "      <td>[7.852382470636216, 8.932021345439185, 9.95480...</td>\n",
       "      <td>[55.91772773126197, 86.2461753549586, 99.18585...</td>\n",
       "      <td>[[[False, False, False, False, False, False, F...</td>\n",
       "    </tr>\n",
       "    <tr>\n",
       "      <th>2</th>\n",
       "      <td>[4202.233429394812, 8047.910662824207, 10378.0...</td>\n",
       "      <td>[6.992177841751804, 8.566732661463611, 9.89595...</td>\n",
       "      <td>[57.10373275017442, 90.21392546811208, 101.654...</td>\n",
       "      <td>[[[False, False, False, False, False, False, F...</td>\n",
       "    </tr>\n",
       "    <tr>\n",
       "      <th>3</th>\n",
       "      <td>[1883.8866039952998, 4187.426556991774, 6053.7...</td>\n",
       "      <td>[5.138040897581307, 6.59544147380681, 7.915456...</td>\n",
       "      <td>[35.47984371902191, 60.868423925042926, 74.421...</td>\n",
       "      <td>[[[False, False, False, False, False, False, F...</td>\n",
       "    </tr>\n",
       "  </tbody>\n",
       "</table>\n",
       "</div>"
      ],
      "text/plain": [
       "                                                area  \\\n",
       "0  [844.7898423817863, 5321.074138937536, 8587.20...   \n",
       "1  [4588.924233661076, 8109.456333140543, 10127.6...   \n",
       "2  [4202.233429394812, 8047.910662824207, 10378.0...   \n",
       "3  [1883.8866039952998, 4187.426556991774, 6053.7...   \n",
       "\n",
       "                                   axis_minor_length  \\\n",
       "0  [2.6538376439538647, 7.698518186031254, 8.9309...   \n",
       "1  [7.852382470636216, 8.932021345439185, 9.95480...   \n",
       "2  [6.992177841751804, 8.566732661463611, 9.89595...   \n",
       "3  [5.138040897581307, 6.59544147380681, 7.915456...   \n",
       "\n",
       "                                   axis_major_length  \\\n",
       "0  [35.21139692854252, 67.43948878147152, 93.2309...   \n",
       "1  [55.91772773126197, 86.2461753549586, 99.18585...   \n",
       "2  [57.10373275017442, 90.21392546811208, 101.654...   \n",
       "3  [35.47984371902191, 60.868423925042926, 74.421...   \n",
       "\n",
       "                                               image  \n",
       "0  [[[False, False, False, False, False, False, F...  \n",
       "1  [[[False, False, False, False, False, False, F...  \n",
       "2  [[[False, False, False, False, False, False, F...  \n",
       "3  [[[False, False, False, False, False, False, F...  "
      ]
     },
     "execution_count": 5,
     "metadata": {},
     "output_type": "execute_result"
    }
   ],
   "source": [
    "df_prop"
   ]
  },
  {
   "cell_type": "code",
   "execution_count": 13,
   "id": "5221045e-54c5-432c-9a69-ad5fefd0c8ec",
   "metadata": {},
   "outputs": [],
   "source": [
    "props['area'] = props['area']/23\n"
   ]
  },
  {
   "cell_type": "code",
   "execution_count": 14,
   "id": "9352da44-df63-4d03-9fbb-25aa4ca52dc4",
   "metadata": {},
   "outputs": [
    {
     "data": {
      "text/plain": [
       "{'area': array([ 81.90811322, 182.06202422, 263.20696878, 350.87556839,\n",
       "        441.18811628, 509.45179584, 512.43422061, 401.37561948,\n",
       "        214.54618607]),\n",
       " 'axis_minor_length': array([ 69.95956486,  89.80353111, 107.776862  , 111.71369948,\n",
       "        120.70737029, 135.56554835, 140.7180428 , 120.88617232,\n",
       "         94.61366085]),\n",
       " 'axis_major_length': array([ 483.09355208,  828.78446016, 1013.32819893, 1305.3881206 ,\n",
       "        1510.08572441, 1557.62648538, 1480.02105065, 1352.5304607 ,\n",
       "        1060.79135172]),\n",
       " 'image': array([array([[False, False, False, ..., False, False, False],\n",
       "               [False, False, False, ..., False, False, False],\n",
       "               [False, False, False, ..., False, False, False],\n",
       "               ...,\n",
       "               [False, False, False, ...,  True,  True,  True],\n",
       "               [False, False, False, ...,  True,  True, False],\n",
       "               [False, False, False, ..., False, False, False]]),\n",
       "        array([[False, False, False, ..., False, False, False],\n",
       "               [False, False, False, ..., False, False, False],\n",
       "               [False, False, False, ..., False, False, False],\n",
       "               ...,\n",
       "               [False, False, False, ..., False, False, False],\n",
       "               [False, False, False, ..., False, False, False],\n",
       "               [False, False, False, ..., False, False, False]]),\n",
       "        array([[False, False, False, ..., False, False, False],\n",
       "               [False, False, False, ..., False, False, False],\n",
       "               [False, False, False, ..., False, False, False],\n",
       "               ...,\n",
       "               [False, False, False, ..., False, False, False],\n",
       "               [False, False, False, ..., False, False, False],\n",
       "               [False, False, False, ..., False, False, False]]),\n",
       "        array([[False, False, False, ..., False, False, False],\n",
       "               [False, False, False, ..., False, False, False],\n",
       "               [False, False, False, ..., False, False, False],\n",
       "               ...,\n",
       "               [False, False, False, ..., False, False, False],\n",
       "               [False, False, False, ..., False, False, False],\n",
       "               [False, False, False, ..., False, False, False]]),\n",
       "        array([[False, False, False, ..., False, False, False],\n",
       "               [False, False, False, ..., False, False, False],\n",
       "               [False, False, False, ..., False, False, False],\n",
       "               ...,\n",
       "               [False, False, False, ..., False, False, False],\n",
       "               [False, False, False, ..., False, False, False],\n",
       "               [False, False, False, ..., False, False, False]]),\n",
       "        array([[False, False, False, ..., False, False, False],\n",
       "               [False, False, False, ..., False, False, False],\n",
       "               [False, False, False, ..., False, False, False],\n",
       "               ...,\n",
       "               [False, False, False, ..., False, False, False],\n",
       "               [False, False, False, ..., False, False, False],\n",
       "               [False, False, False, ..., False, False, False]]),\n",
       "        array([[False, False, False, ..., False, False, False],\n",
       "               [False, False, False, ..., False, False, False],\n",
       "               [False, False, False, ..., False, False, False],\n",
       "               ...,\n",
       "               [False, False, False, ..., False, False, False],\n",
       "               [False, False, False, ..., False, False, False],\n",
       "               [False, False, False, ..., False, False, False]]),\n",
       "        array([[False, False, False, ..., False, False, False],\n",
       "               [False, False, False, ..., False, False, False],\n",
       "               [False, False, False, ..., False, False, False],\n",
       "               ...,\n",
       "               [False, False, False, ..., False, False, False],\n",
       "               [False, False, False, ..., False, False, False],\n",
       "               [False, False, False, ..., False, False, False]]),\n",
       "        array([[False, False, False, ..., False, False, False],\n",
       "               [False, False, False, ..., False, False, False],\n",
       "               [False, False, False, ..., False, False, False],\n",
       "               ...,\n",
       "               [False, False, False, ..., False, False, False],\n",
       "               [False, False, False, ..., False, False, False],\n",
       "               [False, False, False, ..., False, False, False]])],\n",
       "       dtype=object)}"
      ]
     },
     "execution_count": 14,
     "metadata": {},
     "output_type": "execute_result"
    }
   ],
   "source": []
  },
  {
   "cell_type": "code",
   "execution_count": null,
   "id": "59429482-5144-462d-9410-926c8581ea16",
   "metadata": {},
   "outputs": [],
   "source": []
  }
 ],
 "metadata": {
  "kernelspec": {
   "display_name": "Python 3 (ipykernel)",
   "language": "python",
   "name": "python3"
  },
  "language_info": {
   "codemirror_mode": {
    "name": "ipython",
    "version": 3
   },
   "file_extension": ".py",
   "mimetype": "text/x-python",
   "name": "python",
   "nbconvert_exporter": "python",
   "pygments_lexer": "ipython3",
   "version": "3.9.13"
  }
 },
 "nbformat": 4,
 "nbformat_minor": 5
}
