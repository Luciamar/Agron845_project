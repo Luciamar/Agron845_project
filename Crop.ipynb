{
 "cells": [
  {
   "cell_type": "code",
   "execution_count": 2,
   "id": "d057eacd-6ffe-4c3d-8c73-52af9cc55656",
   "metadata": {},
   "outputs": [],
   "source": [
    "#import pillow library\n",
    "from PIL import Image, ImageFilter\n",
    "import numpy as np"
   ]
  },
  {
   "cell_type": "code",
   "execution_count": 3,
   "id": "95668543-a09d-4d8c-a5e7-722c544a3097",
   "metadata": {},
   "outputs": [
    {
     "name": "stdout",
     "output_type": "stream",
     "text": [
      "Width: 4032, height: 3024\n"
     ]
    }
   ],
   "source": [
    "# load the image, using PIL get the number of pixels of width and height.  \n",
    "\n",
    "img = Image.open('./img1.jpg')\n",
    "width , height = img.size\n",
    "\n",
    "print(f\"Width: {width}, height: {height}\")\n",
    "\n",
    "img.show()"
   ]
  },
  {
   "cell_type": "code",
   "execution_count": 7,
   "id": "c874da89-aee6-4d3a-b77e-91eb4e2ef1df",
   "metadata": {},
   "outputs": [
    {
     "name": "stdout",
     "output_type": "stream",
     "text": [
      "None\n"
     ]
    }
   ],
   "source": [
    "max = 10000\n",
    "\n",
    "print(img.getcolors(max))"
   ]
  },
  {
   "cell_type": "code",
   "execution_count": 4,
   "id": "ab9f2605-7423-463e-8dbd-4c709c64333e",
   "metadata": {},
   "outputs": [],
   "source": [
    "# Using the values of width and heigth, estimate the cropping area size.\n",
    "\n",
    "box = (700, 1250, 3850, 3020)\n",
    "img2 = img.crop(box)\n",
    "# Check the image after cropping it to validate if the size is correct. \n",
    "# if not repeat the box step until it is.\n",
    "img2.show()\n"
   ]
  },
  {
   "cell_type": "code",
   "execution_count": 12,
   "id": "12a0b330-1ad8-437b-8222-3e86b0de71cd",
   "metadata": {},
   "outputs": [
    {
     "data": {
      "text/plain": [
       "array([], dtype=int64)"
      ]
     },
     "execution_count": 12,
     "metadata": {},
     "output_type": "execute_result"
    }
   ],
   "source": [
    "im = Image.open('./img1.jpg').convert('RGB')\n",
    "na = np.array(im)\n",
    "orig = na.copy()    # Save original\n",
    "\n",
    "# Median filter to remove outliers\n",
    "im = im.filter(ImageFilter.MedianFilter(3))\n",
    "\n",
    "# Find X,Y coordinates of all yellow pixels\n",
    "yellowY, yellowX = np.where(np.all(na==[81,95,73],axis=2))\n",
    "\n"
   ]
  },
  {
   "cell_type": "code",
   "execution_count": 21,
   "id": "493cc7fb-6773-4fbe-a1ed-3921f6062be6",
   "metadata": {},
   "outputs": [
    {
     "name": "stdout",
     "output_type": "stream",
     "text": [
      "h\n"
     ]
    }
   ],
   "source": [
    "\n",
    "#1 = 10, 2 = 11, 3 = 11, 4=10, 5=10\n",
    "data = []\n",
    "cont = []\n",
    "pixel=pic_list[1].shape[0]/125\n",
    "for RGB in pic_list:\n",
    "    BW = 0\n",
    "    red = RGB[:, :, 0]\n",
    "    green = RGB[:, :, 1]\n",
    "    blue = RGB[:, :, 2]\n",
    "    red_green_ratio = red/green\n",
    "    blue_green_ratio = blue/green\n",
    "    ExG = 2*green - red - blue\n",
    "    BW = np.logical_and(red_green_ratio<0.99, blue_green_ratio<0.99)\n",
    "    print(\"done\")\n",
    "    BW = area_opening(BW, 5000)\n",
    "    BW = binary_closing(BW, disk(10))\n",
    "    label_image = label(BW)\n",
    "    contours = find_contours(BW, 0)\n",
    "    cont.append(contours)\n",
    "    print(f\"Image contains {len(contours)} leaves\")\n",
    "    props = regionprops_table(label_image, properties = ('area',\n",
    "                                                   'axis_minor_length',\n",
    "                                                   'axis_major_length',\n",
    "                                                   \n",
    "                                                   'image'))\n",
    "\n",
    "    data.append(props)\n",
    "    \n",
    "df_prop = pd.DataFrame(data)\n",
    "df_cont = pd.DataFrame(cont)\n",
    "\n"
   ]
  }
 ],
 "metadata": {
  "kernelspec": {
   "display_name": "Python 3 (ipykernel)",
   "language": "python",
   "name": "python3"
  },
  "language_info": {
   "codemirror_mode": {
    "name": "ipython",
    "version": 3
   },
   "file_extension": ".py",
   "mimetype": "text/x-python",
   "name": "python",
   "nbconvert_exporter": "python",
   "pygments_lexer": "ipython3",
   "version": "3.9.13"
  }
 },
 "nbformat": 4,
 "nbformat_minor": 5
}
