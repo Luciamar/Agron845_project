{
 "cells": [
  {
   "cell_type": "code",
   "execution_count": 2,
   "id": "d057eacd-6ffe-4c3d-8c73-52af9cc55656",
   "metadata": {},
   "outputs": [],
   "source": [
    "#import pillow library\n",
    "from PIL import Image"
   ]
  },
  {
   "cell_type": "code",
   "execution_count": 4,
   "id": "95668543-a09d-4d8c-a5e7-722c544a3097",
   "metadata": {},
   "outputs": [
    {
     "name": "stdout",
     "output_type": "stream",
     "text": [
      "Width: 4032, height: 3024\n"
     ]
    }
   ],
   "source": [
    "# load the image, using PIL get the number of pixels of width and height.  \n",
    "\n",
    "img = Image.open('./img1.jpg')\n",
    "width , height = img.size\n",
    "\n",
    "print(f\"Width: {width}, height: {height}\")\n",
    "\n",
    "img.show()"
   ]
  },
  {
   "cell_type": "code",
   "execution_count": 5,
   "id": "ab9f2605-7423-463e-8dbd-4c709c64333e",
   "metadata": {},
   "outputs": [],
   "source": [
    "# Using the values of width and heigth, estimate the cropping area size.\n",
    "\n",
    "box = (700, 1250, 3850, 3020)\n",
    "img2 = img.crop(box)\n",
    "# Check the image after cropping it to validate if the size is correct. \n",
    "# if not repeat the box step until it is.\n",
    "img2.show()\n"
   ]
  },
  {
   "cell_type": "code",
   "execution_count": null,
   "id": "12a0b330-1ad8-437b-8222-3e86b0de71cd",
   "metadata": {},
   "outputs": [],
   "source": []
  }
 ],
 "metadata": {
  "kernelspec": {
   "display_name": "Python 3 (ipykernel)",
   "language": "python",
   "name": "python3"
  },
  "language_info": {
   "codemirror_mode": {
    "name": "ipython",
    "version": 3
   },
   "file_extension": ".py",
   "mimetype": "text/x-python",
   "name": "python",
   "nbconvert_exporter": "python",
   "pygments_lexer": "ipython3",
   "version": "3.9.12"
  }
 },
 "nbformat": 4,
 "nbformat_minor": 5
}
