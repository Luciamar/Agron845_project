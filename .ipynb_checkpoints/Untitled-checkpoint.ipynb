{
 "cells": [
  {
   "cell_type": "code",
   "execution_count": 1,
   "id": "73ca3d19-8c44-4f96-bd34-ace8507e6d35",
   "metadata": {},
   "outputs": [],
   "source": [
    "#import pillow library\n",
    "\n",
    "from PIL import Image\n",
    "import numpy as np\n"
   ]
  },
  {
   "cell_type": "code",
   "execution_count": 2,
   "id": "905524d0-5b6f-458a-8d06-6bade599edd2",
   "metadata": {},
   "outputs": [
    {
     "name": "stdout",
     "output_type": "stream",
     "text": [
      "Width: 4032, height: 3024\n"
     ]
    }
   ],
   "source": [
    "\n",
    "# load the image, using PIL get the number of pixels of width and height. \n",
    "#convert image in an array of 3d\n",
    "\n",
    "img = Image.open('../Agron845_project/img1.jpg')\n",
    "\n",
    "width , height = img.size\n",
    "print(f\"Width: {width}, height: {height}\")\n",
    "\n",
    "pixels = np.array(img)\n",
    "\n",
    "img.show()"
   ]
  },
  {
   "cell_type": "code",
   "execution_count": 3,
   "id": "dedf71ca-3d05-4a35-a72a-bd38b1182488",
   "metadata": {},
   "outputs": [],
   "source": [
    "#using the blue tape of the picture delimit the image using a for loop\n",
    "#first for gets into each row that contains several arrays (each pixel)\n",
    "#secon for gets inside the pixel and compre the values with the limits i used\n",
    "#blue = [30,75,160]\n",
    "list = []\n",
    "row_n = 0 #i am interedted to know row number not pixel data \n",
    "for row in pixels:\n",
    "    for pixel in row:\n",
    "        if pixel[0]>30 and pixel[0]<50 and pixel[1]>70 and pixel[1]<90 and pixel[2]>150 and pixel[2]>170:\n",
    "            list.append(row_n)\n",
    "    row_n +=1        "
   ]
  },
  {
   "cell_type": "code",
   "execution_count": 4,
   "id": "27a2fbc3-5959-4df2-8b8b-91464aab8ec4",
   "metadata": {},
   "outputs": [
    {
     "name": "stdout",
     "output_type": "stream",
     "text": [
      "Width: 3150, height: 1746\n"
     ]
    }
   ],
   "source": [
    "# Using the values of width and heigth, estimate the cropping area size.\n",
    "\n",
    "box = (700, np.max(list), 3850, 3020)\n",
    "img2 = img.crop(box)\n",
    "# Check the image after cropping it to validate if the size is correct. \n",
    "# if not repeat the box step until it is.\n",
    "#img2.show()\n",
    "new_width , new_height = img2.size\n",
    "print(f\"Width: {new_width}, height: {new_height}\")"
   ]
  },
  {
   "cell_type": "code",
   "execution_count": 5,
   "id": "98b0ac3e-d839-4c32-b5a5-a76fe4f78706",
   "metadata": {},
   "outputs": [
    {
     "name": "stdout",
     "output_type": "stream",
     "text": [
      "Width: 250, height: 1746\n"
     ]
    }
   ],
   "source": [
    "#make a picture with only one leave to check if can crop leave\n",
    "box = (2800, np.max(list), 3050, 3020)\n",
    "img3 = img.crop(box)\n",
    "# Check the image after cropping it to validate if the size is correct. \n",
    "# if not repeat the box step until it is.\n",
    "width , height = img3.size\n",
    "print(f\"Width: {width}, height: {height}\")\n",
    "\n",
    "#img3.show()"
   ]
  },
  {
   "cell_type": "code",
   "execution_count": 6,
   "id": "8be220a7-a94c-4c77-988b-ae468fc2c99c",
   "metadata": {},
   "outputs": [],
   "source": [
    "#make a picture with only one leave and some blank space on the top\n",
    "box = (2800,0, 3050, 3020)\n",
    "img4 = img.crop(box)\n",
    "# Check the image after cropping it to validate if the size is correct. \n",
    "# if not repeat the box step until it is.\n",
    "\n",
    "#width , height = img4.size\n",
    "#print(f\"Width: {width}, height: {height}\")\n",
    "\n",
    "#img4.show()"
   ]
  },
  {
   "cell_type": "code",
   "execution_count": 7,
   "id": "bf238b46-c814-4c1d-a185-d22cb7a85c73",
   "metadata": {},
   "outputs": [
    {
     "name": "stderr",
     "output_type": "stream",
     "text": [
      "/var/folders/25/ngxdd_qd2n1_7r3xmsgq7h8m0000gn/T/ipykernel_29916/1874083932.py:13: RuntimeWarning: divide by zero encountered in ubyte_scalars\n",
      "  red_green_ratio = red/green\n",
      "/var/folders/25/ngxdd_qd2n1_7r3xmsgq7h8m0000gn/T/ipykernel_29916/1874083932.py:14: RuntimeWarning: invalid value encountered in ubyte_scalars\n",
      "  blue_green_ratio = blue/green\n"
     ]
    }
   ],
   "source": [
    "#used red_green_blue relation from canopy cover in Pynotes\n",
    "\n",
    "pixels = np.array(img4)\n",
    "list1 = []\n",
    "pixel_total = []\n",
    "row_n = 0 #i am interedted to know row number not pixel data \n",
    "pixel_n = 0\n",
    "for row in pixels:\n",
    "    for pixel in row:\n",
    "        red = pixel[0]\n",
    "        green = pixel[1]\n",
    "        blue = pixel[2]\n",
    "        red_green_ratio = red/green\n",
    "        blue_green_ratio = blue/green\n",
    "        ExG = 2*green - red - blue\n",
    "        if red_green_ratio<0.95 and blue_green_ratio<0.95 and ExG>20:\n",
    "            list1.append(row_n)\n",
    "            pixel_n +=1\n",
    "            pixel_total.append(pixel_n)\n",
    "            \n",
    "    row_n +=1    \n"
   ]
  },
  {
   "cell_type": "code",
   "execution_count": 8,
   "id": "7a4963eb-f2a8-4faa-aed0-7b32bbad579c",
   "metadata": {},
   "outputs": [
    {
     "name": "stdout",
     "output_type": "stream",
     "text": [
      "Width: 250, height: 1693\n"
     ]
    }
   ],
   "source": [
    "box = (2800,np.min(list1), 3050, np.max(list1))\n",
    "img4 = img.crop(box)\n",
    "# Check the image after cropping it to validate if the size is correct. \n",
    "# if not repeat the box step until it is.\n",
    "width , height = img4.size\n",
    "print(f\"Width: {width}, height: {height}\")\n",
    "\n",
    "img4.show()"
   ]
  },
  {
   "cell_type": "code",
   "execution_count": null,
   "id": "ccdd7622-2d75-44d0-9914-51e46a7820cd",
   "metadata": {},
   "outputs": [],
   "source": []
  }
 ],
 "metadata": {
  "kernelspec": {
   "display_name": "Python 3 (ipykernel)",
   "language": "python",
   "name": "python3"
  },
  "language_info": {
   "codemirror_mode": {
    "name": "ipython",
    "version": 3
   },
   "file_extension": ".py",
   "mimetype": "text/x-python",
   "name": "python",
   "nbconvert_exporter": "python",
   "pygments_lexer": "ipython3",
   "version": "3.9.13"
  }
 },
 "nbformat": 4,
 "nbformat_minor": 5
}
