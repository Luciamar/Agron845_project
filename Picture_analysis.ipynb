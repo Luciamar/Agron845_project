{
 "cells": [
  {
   "cell_type": "markdown",
   "id": "4066d1e3-0a32-4577-8d34-52efd8d3f5dd",
   "metadata": {
    "tags": []
   },
   "source": [
    "# Measure sorghum leaves from pictures\n",
    "\n",
    "<font size=\"4\">For my master's project, I am analyzing the canopy of 20 different sorghum hybrids by taking pictures of the whole plant and leaves at three stages. I collected a total of 1440 pictures, half of which are leaf pictures. To save time and reduce human error, at the time of measureing the pictures, I aimed to automate the measurement of leaves and obtain their area, length, and width.</font>\n",
    "\n"
   ]
  },
  {
   "cell_type": "code",
   "execution_count": 3,
   "id": "1fe72dfd-888f-4953-b271-8b7931478b41",
   "metadata": {},
   "outputs": [
    {
     "ename": "ModuleNotFoundError",
     "evalue": "No module named 'Toolbox'",
     "output_type": "error",
     "traceback": [
      "\u001b[0;31m---------------------------------------------------------------------------\u001b[0m",
      "\u001b[0;31mModuleNotFoundError\u001b[0m                       Traceback (most recent call last)",
      "\u001b[0;32m/var/folders/25/ngxdd_qd2n1_7r3xmsgq7h8m0000gn/T/ipykernel_41364/3176462115.py\u001b[0m in \u001b[0;36m<module>\u001b[0;34m\u001b[0m\n\u001b[1;32m      7\u001b[0m \u001b[0;32mfrom\u001b[0m \u001b[0mskimage\u001b[0m \u001b[0;32mimport\u001b[0m \u001b[0mio\u001b[0m\u001b[0;34m\u001b[0m\u001b[0;34m\u001b[0m\u001b[0m\n\u001b[1;32m      8\u001b[0m \u001b[0;32mfrom\u001b[0m \u001b[0mskimage\u001b[0m\u001b[0;34m.\u001b[0m\u001b[0mio\u001b[0m \u001b[0;32mimport\u001b[0m \u001b[0mimread\u001b[0m\u001b[0;34m\u001b[0m\u001b[0;34m\u001b[0m\u001b[0m\n\u001b[0;32m----> 9\u001b[0;31m \u001b[0;32mfrom\u001b[0m \u001b[0mToolbox\u001b[0m \u001b[0;32mimport\u001b[0m \u001b[0mleaves_props\u001b[0m\u001b[0;34m\u001b[0m\u001b[0;34m\u001b[0m\u001b[0m\n\u001b[0m",
      "\u001b[0;31mModuleNotFoundError\u001b[0m: No module named 'Toolbox'"
     ]
    }
   ],
   "source": [
    "import matplotlib.pyplot as plt\n",
    "import numpy as np\n",
    "import pandas as pd\n",
    "import glob\n",
    "\n",
    "#import skimage modules\n",
    "from skimage import io\n",
    "from skimage.io import imread\n",
    "from Toolbox import leaves_props"
   ]
  },
  {
   "cell_type": "code",
   "execution_count": null,
   "id": "0bd971e1-7026-40a1-98fc-7ad201a9b001",
   "metadata": {},
   "outputs": [],
   "source": [
    "leaves_props?"
   ]
  },
  {
   "cell_type": "code",
   "execution_count": null,
   "id": "6eb9ce7a-7994-4a94-b42a-9d7eaf394092",
   "metadata": {},
   "outputs": [],
   "source": [
    "#Read file names, and apply the function with a for loop. \n",
    "# Place all the pictures in one folder and read all the names in file_list\n",
    "\n",
    "file_list = glob.glob(\"../Leaf_properties_Marziotte_05_08/Images/*.*\")\n",
    "data = []\n",
    "pic_list = []\n",
    "\n",
    "for file in file_list:\n",
    "    RGB = imread(file)\n",
    "    pic_list.append(RGB)\n",
    "    cont,props = leaves_props(RGB)\n",
    "    d = {'file_name':file, 'props':props, 'cont':cont}\n",
    "    data.append(d)\n",
    "    print(f\"Image {file} contains {len(cont)} leaves\")\n",
    "\n",
    "    #df contains the name of the file in the first column, props table for each picture in the second, and the contours in the last one.\n",
    "df = pd.DataFrame(data)\n",
    "\n"
   ]
  },
  {
   "cell_type": "code",
   "execution_count": null,
   "id": "2ed12465-b198-4852-a467-d263a6d40a09",
   "metadata": {},
   "outputs": [],
   "source": [
    "#Figure showing in the top the original pictures, in the bottom the contours for the same picture.\n",
    "\n",
    "fig, axs = plt.subplots(2,4, figsize = (20,10))\n",
    "\n",
    "for images in range(0,len(pic_list)):\n",
    "    axs[0][images].imshow(pic_list[images])\n",
    "\n",
    "\n",
    "i = 0\n",
    "for picture in df['cont']:\n",
    "    for contour in picture:\n",
    "        axs[1][i].plot(contour[:,1],contour[:,0]*-1)   \n",
    "    i = i+1\n",
    "\n",
    "\n",
    "plt.show()\n"
   ]
  },
  {
   "cell_type": "code",
   "execution_count": null,
   "id": "5de08c04-94e6-403f-ac71-b2a96079c19e",
   "metadata": {},
   "outputs": [],
   "source": [
    "#Show the df, and it's contents\n",
    "df"
   ]
  },
  {
   "cell_type": "code",
   "execution_count": null,
   "id": "e3cb2283-3d86-476d-9329-183523ef0ed2",
   "metadata": {},
   "outputs": [],
   "source": [
    "#Show how each leaf is saved in properties inside the df\n",
    "plt.imshow(df['props'][0]['image'][1])\n",
    "plt.show()"
   ]
  },
  {
   "cell_type": "code",
   "execution_count": null,
   "id": "66758b8c-360e-4405-ba76-751657ea3cd8",
   "metadata": {},
   "outputs": [],
   "source": [
    "#Show how each leaf contour is saved inside the df\n",
    "plt.figure(figsize = (1,5))\n",
    "plt.plot(df['cont'][0][0][:,0], df['cont'][0][0][:,1])\n",
    "plt.show()"
   ]
  },
  {
   "cell_type": "code",
   "execution_count": null,
   "id": "9e1e7589-5d8a-4981-bb0b-0c735c8a2a0e",
   "metadata": {},
   "outputs": [],
   "source": [
    "#Save the dataframe to a csv file\n",
    "df.to_csv('df.csv')"
   ]
  }
 ],
 "metadata": {
  "kernelspec": {
   "display_name": "Python 3 (ipykernel)",
   "language": "python",
   "name": "python3"
  },
  "language_info": {
   "codemirror_mode": {
    "name": "ipython",
    "version": 3
   },
   "file_extension": ".py",
   "mimetype": "text/x-python",
   "name": "python",
   "nbconvert_exporter": "python",
   "pygments_lexer": "ipython3",
   "version": "3.9.13"
  }
 },
 "nbformat": 4,
 "nbformat_minor": 5
}
