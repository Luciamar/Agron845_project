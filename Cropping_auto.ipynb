{
 "cells": [
  {
   "cell_type": "code",
   "execution_count": 2,
   "id": "d057eacd-6ffe-4c3d-8c73-52af9cc55656",
   "metadata": {},
   "outputs": [],
   "source": [
    "#import pillow library\n",
    "from PIL import Image\n",
    "import numpy as np"
   ]
  },
  {
   "cell_type": "code",
   "execution_count": 9,
   "id": "95668543-a09d-4d8c-a5e7-722c544a3097",
   "metadata": {},
   "outputs": [
    {
     "name": "stdout",
     "output_type": "stream",
     "text": [
      "Width: 4032, height: 3024\n"
     ]
    }
   ],
   "source": [
    "# load the image, using PIL get the number of pixels of width and height.  \n",
    "\n",
    "img = Image.open('../Agron845_project/img1.jpg')\n",
    "\n",
    "width , height = img.size\n",
    "print(f\"Width: {width}, height: {height}\")\n",
    "\n",
    "pixels = np.array(img)\n",
    "\n",
    "#img.show()"
   ]
  },
  {
   "cell_type": "code",
   "execution_count": 24,
   "id": "ff8bb8bb-7187-451b-bf7b-e7dfc2a653a7",
   "metadata": {},
   "outputs": [],
   "source": [
    "#blue = [30,75,160]\n",
    "#for row in pixels:\n",
    "#    for pixel in row:\n",
    "#        if pixel[0]>30 and pixel[0]<50 and pixel[1]>70 and pixel[1]<90 and pixel[2]>150 and pixel[2]>170:\n",
    "#            print(\"yes\")\n",
    "\n",
    "\n"
   ]
  },
  {
   "cell_type": "code",
   "execution_count": 29,
   "id": "9bcbed69-6ace-4060-8b8e-dc5a6aaa3874",
   "metadata": {},
   "outputs": [],
   "source": [
    "#blue = [30,75,160]\n",
    "list = []\n",
    "row_n = 0 #i am interedted to know row number not pixel data \n",
    "for row in pixels:\n",
    "    for pixel in row:\n",
    "        if pixel[0]>30 and pixel[0]<50 and pixel[1]>70 and pixel[1]<90 and pixel[2]>150 and pixel[2]>170:\n",
    "            list.append(row_n)\n",
    "    row_n +=1        "
   ]
  },
  {
   "cell_type": "code",
   "execution_count": 30,
   "id": "6726585a-981b-47ea-af1c-861e521bb0c3",
   "metadata": {},
   "outputs": [
    {
     "data": {
      "text/plain": [
       "1274"
      ]
     },
     "execution_count": 30,
     "metadata": {},
     "output_type": "execute_result"
    }
   ],
   "source": [
    "np.max(list)"
   ]
  },
  {
   "cell_type": "code",
   "execution_count": 32,
   "id": "ab9f2605-7423-463e-8dbd-4c709c64333e",
   "metadata": {},
   "outputs": [],
   "source": [
    "# Using the values of width and heigth, estimate the cropping area size.\n",
    "\n",
    "box = (700, np.max(list), 3850, 3020)\n",
    "img2 = img.crop(box)\n",
    "# Check the image after cropping it to validate if the size is correct. \n",
    "# if not repeat the box step until it is.\n",
    "img2.show()\n"
   ]
  },
  {
   "cell_type": "code",
   "execution_count": null,
   "id": "26716deb-0e8f-4beb-bba9-e0d45434f2ed",
   "metadata": {},
   "outputs": [],
   "source": [
    "#green = [70-90,80-100,50-70]"
   ]
  },
  {
   "cell_type": "code",
   "execution_count": null,
   "id": "12a0b330-1ad8-437b-8222-3e86b0de71cd",
   "metadata": {},
   "outputs": [],
   "source": []
  }
 ],
 "metadata": {
  "kernelspec": {
   "display_name": "Python 3 (ipykernel)",
   "language": "python",
   "name": "python3"
  },
  "language_info": {
   "codemirror_mode": {
    "name": "ipython",
    "version": 3
   },
   "file_extension": ".py",
   "mimetype": "text/x-python",
   "name": "python",
   "nbconvert_exporter": "python",
   "pygments_lexer": "ipython3",
   "version": "3.9.13"
  }
 },
 "nbformat": 4,
 "nbformat_minor": 5
}
